{
  "nbformat": 4,
  "nbformat_minor": 0,
  "metadata": {
    "colab": {
      "provenance": [],
      "mount_file_id": "1dCXkUbJWwF8vgGWpEEoWs2GDHkNOniIh",
      "authorship_tag": "ABX9TyOQ2uVTWciLRkwRDYbk5voX",
      "include_colab_link": true
    },
    "kernelspec": {
      "name": "python3",
      "display_name": "Python 3"
    },
    "language_info": {
      "name": "python"
    }
  },
  "cells": [
    {
      "cell_type": "markdown",
      "metadata": {
        "id": "view-in-github",
        "colab_type": "text"
      },
      "source": [
        "<a href=\"https://colab.research.google.com/github/hassaan921/Excel_Dashboards/blob/main/Hassaan_Malik_EDA_Portfolio.ipynb\" target=\"_parent\"><img src=\"https://colab.research.google.com/assets/colab-badge.svg\" alt=\"Open In Colab\"/></a>"
      ]
    },
    {
      "cell_type": "code",
      "execution_count": null,
      "metadata": {
        "id": "uOHuNmIVoPRB"
      },
      "outputs": [],
      "source": [
        "import importlib\n",
        "import subprocess\n",
        "import sys\n",
        "\n",
        "def install_and_load(libraries):\n",
        "    \"\"\"\n",
        "    A single function that imports multiple libraries in one input.\n",
        "    \"\"\"\n",
        "    for lib in libraries:\n",
        "        try:\n",
        "            # Check if the library is installed or not\n",
        "            importlib.import_module(lib)\n",
        "            print(f\"'{lib}' is already installed.\")\n",
        "        except ImportError:\n",
        "            # Install the library if not found\n",
        "            print(f\"'{lib}' not found. Installing...\")\n",
        "            subprocess.check_call([sys.executable, \"-m\", \"pip\", \"install\", lib])\n",
        "        finally:\n",
        "            # Import the library after installation and assign it to a global variable\n",
        "            globals()[lib] = importlib.import_module(lib)\n",
        "            globals()[lib] = globals()[lib]\n",
        "            print(f\"'{lib}' has been loaded.\")\n",
        "\n",
        "# Get input from user\n",
        "user_input = input(\"Enter library names separated by commas: \")\n",
        "libraries = [lib.strip() for lib in user_input.split(\",\")]\n",
        "\n",
        "# Install and load libraries\n",
        "install_and_load(libraries)"
      ]
    },
    {
      "cell_type": "code",
      "source": [
        "af_treadmill = pandas.read_csv(\"/content/drive/MyDrive/Colab Notebooks/data sets/EDA_aerofit__treadmill_data - aerofit__treadmill_data.csv\")"
      ],
      "metadata": {
        "id": "QGD4DvWVtQMf"
      },
      "execution_count": 70,
      "outputs": []
    },
    {
      "cell_type": "code",
      "source": [
        "af_treadmill.shape"
      ],
      "metadata": {
        "colab": {
          "base_uri": "https://localhost:8080/"
        },
        "id": "pko_6AFvtfKC",
        "outputId": "b3b3b64c-dc01-4263-b520-489e5b8976d5"
      },
      "execution_count": 71,
      "outputs": [
        {
          "output_type": "execute_result",
          "data": {
            "text/plain": [
              "(180, 9)"
            ]
          },
          "metadata": {},
          "execution_count": 71
        }
      ]
    },
    {
      "cell_type": "code",
      "source": [
        "af_treadmill"
      ],
      "metadata": {
        "id": "JJLbGvJ_n-hF"
      },
      "execution_count": null,
      "outputs": []
    },
    {
      "cell_type": "code",
      "source": [
        "af_treadmill.info()"
      ],
      "metadata": {
        "id": "dF-LGzePuqtu"
      },
      "execution_count": null,
      "outputs": []
    },
    {
      "cell_type": "markdown",
      "source": [
        "# **Looking for Categorical and Numeric Data Description**"
      ],
      "metadata": {
        "id": "aWHmWIDLv0tC"
      }
    },
    {
      "cell_type": "code",
      "source": [
        "af_treadmill.describe(include=[\"O\"])"
      ],
      "metadata": {
        "id": "CATR6MPKu1Rw"
      },
      "execution_count": null,
      "outputs": []
    },
    {
      "cell_type": "code",
      "source": [
        "af_treadmill.describe()"
      ],
      "metadata": {
        "id": "JG4UnfIluzav"
      },
      "execution_count": null,
      "outputs": []
    },
    {
      "cell_type": "markdown",
      "source": [
        "# **Missing Values**\n",
        "Info() and describe() showed that no values are missing. This visualization confirms it too."
      ],
      "metadata": {
        "id": "1-IamlEEvyR6"
      }
    },
    {
      "cell_type": "code",
      "source": [
        "missingno.bar(af_treadmill)"
      ],
      "metadata": {
        "id": "LcM1VHQSv9hL"
      },
      "execution_count": null,
      "outputs": []
    },
    {
      "cell_type": "markdown",
      "source": [
        "# **Duplicates**\n",
        "Using duplicated() shows no duplicated data."
      ],
      "metadata": {
        "id": "PWVcEw1Lwax1"
      }
    },
    {
      "cell_type": "code",
      "source": [
        "for column in af_treadmill:\n",
        "  print(f\"Duplicates in\", {column})\n",
        "  print(af_treadmill.duplicated().sum())"
      ],
      "metadata": {
        "id": "dwd-VFRtwc72"
      },
      "execution_count": null,
      "outputs": []
    },
    {
      "cell_type": "markdown",
      "source": [
        "# **Non-Graphical Analysis:**\n",
        "Following functions gives value counts and unique attributes for all *categorical* features"
      ],
      "metadata": {
        "id": "heQnne09xOjq"
      }
    },
    {
      "cell_type": "code",
      "source": [
        "af_treadmill_non_numeric = af_treadmill.select_dtypes(exclude=[numpy.number])\n",
        "non_numeric_cols = af_treadmill_non_numeric.columns.values\n",
        "non_numeric_cols"
      ],
      "metadata": {
        "id": "6KdgLF_MbM3K"
      },
      "execution_count": null,
      "outputs": []
    },
    {
      "cell_type": "code",
      "source": [
        "for column in af_treadmill_non_numeric:\n",
        "  print(f\"Value count for {column}\")\n",
        "  print(af_treadmill_non_numeric[column].value_counts())\n",
        "  print(\"\\n\")\n",
        "  print(f\"Unique attributes in {column}\")\n",
        "  print(af_treadmill_non_numeric[column].unique())\n",
        "  print(\"-----------------------------------------------\")\n",
        "  print(\"\\n\")\n",
        "print(\"End\")"
      ],
      "metadata": {
        "id": "0JGXxywJxUEv"
      },
      "execution_count": null,
      "outputs": []
    },
    {
      "cell_type": "markdown",
      "source": [
        "**Graphical Analysis:**\n",
        " Univariate Analysis - Numerical features:\n",
        "o Distribution Plot\n",
        "o Count Plot\n",
        "o Box Plot"
      ],
      "metadata": {
        "id": "2oHP6LhOcdjv"
      }
    },
    {
      "cell_type": "code",
      "source": [
        "# defined this module separately to assign an alias, which could not be done in the first function for other modules\n",
        "import matplotlib.pyplot as plt"
      ],
      "metadata": {
        "id": "ebjYaU2Ee899"
      },
      "execution_count": null,
      "outputs": []
    },
    {
      "cell_type": "code",
      "source": [
        "# defining a new variable containing all numeric features\n",
        "\n",
        "af_treadmill_numeric = af_treadmill.select_dtypes(include=[numpy.number])\n",
        "numeric_cols = af_treadmill_numeric.columns.values\n",
        "\n",
        "numeric_cols"
      ],
      "metadata": {
        "id": "_iTR4dnIcN6a"
      },
      "execution_count": null,
      "outputs": []
    },
    {
      "cell_type": "code",
      "source": [
        "# setting the number, orientation, and sizes of various subplots\n",
        "\n",
        "fig, axes = plt.subplots(nrows=3,ncols=2,figsize=(15,10))\n",
        "fig.suptitle('Distribution of Numerical Features\\n', size = 18)\n",
        "\n",
        "# plotting distribution/histogram plot for numeric features\n",
        "\n",
        "axes[0,0].hist(af_treadmill['Age'],bins=10, linewidth=0.5, edgecolor=\"white\")\n",
        "axes[0,0].set(xlabel='', ylabel='Frequency')\n",
        "axes[0,0].set_title(\"Distribution of Age(In Years)\");\n",
        "\n",
        "axes[0,1].hist(af_treadmill['Education'],bins=10, linewidth=0.5, edgecolor=\"white\")\n",
        "axes[0,1].set(xlabel='', ylabel='Frequency')\n",
        "axes[0,1].set_title(\"Distribution of Education(In Years)\");\n",
        "\n",
        "axes[1,0].hist(af_treadmill['Usage'],bins=5, linewidth=0.5, edgecolor=\"white\")\n",
        "axes[1,0].set(xlabel='', ylabel='Frequency')\n",
        "axes[1,0].set_title(\"Distribution of Usage(Planned)\");\n",
        "\n",
        "axes[1,1].hist(af_treadmill['Fitness'],bins=5, linewidth=0.5, edgecolor=\"white\")\n",
        "axes[1,1].set(xlabel='', ylabel='Frequency')\n",
        "axes[1,1].set_title(\"Distribution of Fitness(Self-Reported)\");\n",
        "\n",
        "axes[2,0].hist(af_treadmill['Income'],bins=100, linewidth=0.5, edgecolor=\"white\")\n",
        "axes[2,0].set(xlabel='', ylabel='Frequency')\n",
        "axes[2,0].set_title(\"Distribution of Income(In USD)\");\n",
        "\n",
        "axes[2,1].hist(af_treadmill['Miles'],bins=10, linewidth=0.5, edgecolor=\"white\")\n",
        "axes[2,1].set(xlabel='', ylabel='Frequency')\n",
        "axes[2,1].set_title(\"Distribution of Miles\");\n",
        "\n",
        "plt.tight_layout()"
      ],
      "metadata": {
        "id": "qFE8ds5sdD28"
      },
      "execution_count": null,
      "outputs": []
    },
    {
      "cell_type": "markdown",
      "source": [
        "### **Count plots** did not seem an optimal choice for visualizing numerical data, so instead, using density plots to visualize density of data as well as looking for patterns not easily discernible in distribution plots above."
      ],
      "metadata": {
        "id": "E5gXVs-QgPs-"
      }
    },
    {
      "cell_type": "code",
      "source": [
        "fig, axes = plt.subplots(nrows=3,ncols=2,figsize=(15,10))\n",
        "fig.suptitle('Density of Numerical Features\\n', size = 18)\n",
        "\n",
        "seaborn.kdeplot(af_treadmill_numeric['Age'], ax=axes[0,0])\n",
        "axes[0,0].set_title(\"Density of Age(In Years)\");\n",
        "\n",
        "seaborn.kdeplot(af_treadmill_numeric['Education'], ax=axes[0,1])\n",
        "axes[0,1].set_title(\"Density of Education(In Years)\");\n",
        "\n",
        "seaborn.kdeplot(af_treadmill_numeric['Usage'], ax=axes[1,0])\n",
        "axes[1,0].set_title(\"Density of of Usage(Planned)\");\n",
        "\n",
        "seaborn.kdeplot(af_treadmill_numeric['Fitness'], ax=axes[1,1])\n",
        "axes[1,1].set_title(\"Density of Fitness(Self-Reported)\");\n",
        "\n",
        "seaborn.kdeplot(af_treadmill_numeric['Income'], ax=axes[2,0])\n",
        "axes[2,0].set_title(\"Density of Income(In USD)\");\n",
        "\n",
        "seaborn.kdeplot(af_treadmill_numeric['Miles'], ax=axes[2,1])\n",
        "axes[2,1].set_title(\"Density of Miles\");\n",
        "\n",
        "plt.tight_layout()"
      ],
      "metadata": {
        "id": "8wfcGEvNgj5z"
      },
      "execution_count": null,
      "outputs": []
    },
    {
      "cell_type": "markdown",
      "source": [
        "Boxplots"
      ],
      "metadata": {
        "id": "GYBT2CXykegU"
      }
    },
    {
      "cell_type": "code",
      "source": [
        "fig, axes = plt.subplots(nrows=2, ncols=3,figsize=(15,10))\n",
        "fig.suptitle('Distribution and Outliers\\n', size = 18)\n",
        "\n",
        "seaborn.boxplot(ax=axes[0,0], data=af_treadmill, x='Age', y='Product', hue='Product', palette='pastel', gap=.1)\n",
        "axes[0,0].set_title(\"Distribution and Outliers in Age(In Years)\");\n",
        "\n",
        "seaborn.boxplot(ax=axes[0, 1], data=af_treadmill, x='Education', y='Product', hue='Product', palette='pastel', gap=.1)\n",
        "axes[0,1].set_title(\"Distribution and Outliers in Education(In Years)\");\n",
        "\n",
        "seaborn.boxplot(ax=axes[0, 2], data=af_treadmill, x='Usage', y='Product',hue='Product', palette='pastel', gap=.1)\n",
        "axes[0,2].set_title(\"Distribution and Outliers in Usage(Intended)\");\n",
        "\n",
        "seaborn.boxplot(ax=axes[1, 0], data=af_treadmill, x='Fitness', y='Product',hue='Product', palette='pastel', gap=.1)\n",
        "axes[1,0].set_title(\"Distribution and Outliers in Fitness(Self-Reported)\");\n",
        "\n",
        "seaborn.boxplot(ax=axes[1, 1], data=af_treadmill, x='Income', y='Product',hue='Product', palette='pastel', gap=.1)\n",
        "axes[1,1].set_title(\"Distribution and Outliers in Income(In USD)\");\n",
        "\n",
        "seaborn.boxplot(ax=axes[1,2], data=af_treadmill, x='Miles', y='Product',hue='Product', palette='pastel', gap=.1)\n",
        "axes[1,2].set_title(\"Distribution and Outliers in Miles\");\n",
        "\n",
        "plt.tight_layout()"
      ],
      "metadata": {
        "colab": {
          "base_uri": "https://localhost:8080/",
          "height": 952
        },
        "id": "z_RS7Ly8kf1n",
        "outputId": "3bac5fc0-2779-4b38-abc9-dee2a486f7ba"
      },
      "execution_count": 84,
      "outputs": [
        {
          "output_type": "display_data",
          "data": {
            "text/plain": [
              "<Figure size 1500x1000 with 6 Axes>"
            ],
            "image/png": "[encoded data removed]"
          },
          "metadata": {}
        }
      ]
    },
    {
      "cell_type": "markdown",
      "source": [
        " **Univariate Analysis - Categorical features:**\n",
        "\n",
        "o Count Plot\n"
      ],
      "metadata": {
        "id": "UtUTtZR_umVM"
      }
    },
    {
      "cell_type": "code",
      "source": [
        "# setting the number, orientation, and sizes of various subplots\n",
        "fig, axes = plt.subplots(nrows=1, ncols=3, figsize=(15,6))\n",
        "fig.suptitle('Count of Categorical Features\\n', size=18)\n",
        "\n",
        "\n",
        "# plotting count plot for Gender\n",
        "cp1 = seaborn.countplot(ax=axes[0], data=af_treadmill_non_numeric, x='Gender', width = 0.3)\n",
        "\n",
        "\n",
        "# removed labels to prevent redundancy in plot and subplots' titles\n",
        "cp1.set(xlabel='', ylabel='')\n",
        "axes[0].set_title(\"Count of Gender\");\n",
        "\n",
        "\n",
        "# displaying value labels on top of bars\n",
        "abs_values1 = af_treadmill_non_numeric['Gender'].value_counts(ascending=False).values\n",
        "cp1.bar_label(container=cp1.containers[0], labels=abs_values1)\n",
        "\n",
        "\n",
        "# plotting count plot for Product\n",
        "cp2 = seaborn.countplot(ax=axes[1], data=af_treadmill_non_numeric, x='Product', width = 0.4)\n",
        "\n",
        "\n",
        "# removed labels for cp2\n",
        "cp2.set(xlabel='', ylabel='')\n",
        "axes[1].set_title(\"Count of Product\");\n",
        "\n",
        "\n",
        "# displaying value labels on top of bars\n",
        "abs_values2 = af_treadmill_non_numeric['Product'].value_counts(ascending=False).values\n",
        "cp2.bar_label(container=cp2.containers[0], labels=abs_values2)\n",
        "\n",
        "\n",
        "# plotting count plot for MaritalStatus\n",
        "cp3 = seaborn.countplot(ax=axes[2], data=af_treadmill_non_numeric, x='MaritalStatus', width = 0.3)\n",
        "\n",
        "\n",
        "# removed labels for cp3\n",
        "cp3.set(xlabel='', ylabel='')\n",
        "axes[2].set_title(\"Count of Marital Status\");\n",
        "\n",
        "\n",
        "# Due to orientation of both bars, set the order of value labels ascending to prevent wrong labels\n",
        "abs_values3 = af_treadmill_non_numeric['MaritalStatus'].value_counts(ascending=True).values\n",
        "\n",
        "cp3.bar_label(container=cp3.containers[0], labels=abs_values3)\n",
        "\n",
        "plt.tight_layout()"
      ],
      "metadata": {
        "id": "qeSwV3ssul8j"
      },
      "execution_count": null,
      "outputs": []
    },
    {
      "cell_type": "markdown",
      "source": [
        "### **Chi-Square Test of Significance**\n",
        "\n",
        "Doing a chi-square test for significance level 5%, it was found that:\n",
        "- Gender and products has significant association (p-value: 0.001), whereas no significant association was found between products vs. age (p-value: 0.960) and marital status (p-value: 0.900)\n",
        "\n",
        "#### _**Source(s) used to perform this step**:_\n",
        "1. Technical Guide to Chi-Square Test: https://www.stratascratch.com/blog/chi-square-test-in-python-a-technical-guide/\n",
        "2. Scipy module documentation: https://docs.scipy.org/doc/scipy/reference/generated/scipy.stats.chi2_contingency.html"
      ],
      "metadata": {
        "id": "u71NVJmul5Ak"
      }
    },
    {
      "cell_type": "code",
      "source": [
        "# Age is numeric, so binning into a categorical feature using cut()\n",
        "\n",
        "binnames = ['Young Adult','Middle-Aged Adult','Late-Age Adult']\n",
        "\n",
        "af_treadmill['AgeLabeled'] = pandas.cut(af_treadmill['Age'],\n",
        "                     bins=[15,25,45,55],\n",
        "                     labels=binnames)\n",
        "af_treadmill"
      ],
      "metadata": {
        "id": "KrNG0iU3afqs"
      },
      "execution_count": null,
      "outputs": []
    },
    {
      "cell_type": "code",
      "source": [
        "!pip install scipy"
      ],
      "metadata": {
        "id": "FlSnlLM3jZ0z"
      },
      "execution_count": null,
      "outputs": []
    },
    {
      "cell_type": "code",
      "source": [
        "from scipy.stats import chi2_contingency\n",
        "\n",
        "# Defined the categorical features and the target variable\n",
        "categorical_features = ['Gender', 'MaritalStatus', 'AgeLabeled']\n",
        "target_variable = 'Product'\n",
        "\n",
        "# defining a function to run the chi-square test\n",
        "def chi_square_test(feature, target):\n",
        "    contingency_table = pandas.crosstab(af_treadmill[feature], af_treadmill[target])\n",
        "    chi2, p, dof, expected = chi2_contingency(contingency_table)\n",
        "    return chi2, p\n",
        "\n",
        "# Load your dataset into a DataFrame called 'data'\n",
        "# data = pd.read_csv('your_data.csv')  # Uncomment and modify as needed\n",
        "\n",
        "# Perform chi-square tests for each categorical feature\n",
        "for feature in categorical_features:\n",
        "    chi2, p = chi_square_test(feature, target_variable)  # p is correctly returned and used here\n",
        "    print(f\"Chi-Square Test for {feature} vs {target_variable}:\")\n",
        "    print(\"-------------------------\")\n",
        "    print(f\"Chi-Square Statistic: {chi2}\")\n",
        "    print(\"-------------------------\")\n",
        "    print(f\"p-value: {p}\")\n",
        "    print(\"-------------------------\")\n",
        "\n",
        "# p-value set for 95% confidence interval and 5% significance level\n",
        "    if p < 0.05:\n",
        "        print(\"Significant association found.\")\n",
        "    else:\n",
        "        print(\"No significant association found.\")\n",
        "    print(\"\\n\")"
      ],
      "metadata": {
        "id": "yCaAgevFYlp1"
      },
      "execution_count": null,
      "outputs": []
    },
    {
      "cell_type": "markdown",
      "source": [
        "**Multivariate Analysis:**\n",
        "o Create pairplots to show relationship of features\n",
        "\n",
        "**Interpretation:**\n",
        "\n",
        "Seaborn Pairplot: A Guide: https://builtin.com/articles/seaborn-pairplot"
      ],
      "metadata": {
        "id": "5XQ9of76mx9H"
      }
    },
    {
      "cell_type": "code",
      "source": [
        "numeric_col_pairs = seaborn.pairplot(af_treadmill_numeric,\n",
        "                                     kind = \"reg\", # added regression line to visualize the relationship in numeric pairs\n",
        "                                     plot_kws={'line_kws':{'color':'red'}}, # introduced color for easier reading\n",
        "                                     diag_kind='kde', # replacing the default histograms with density plots on the diagonal\n",
        "                                     diag_kws={'color':'red'}) # tweaked the color"
      ],
      "metadata": {
        "id": "OHpGiN4Vm0ll"
      },
      "execution_count": null,
      "outputs": []
    },
    {
      "cell_type": "markdown",
      "source": [
        "# **Correlation Analysis**"
      ],
      "metadata": {
        "id": "fbJd36bCp0Zq"
      }
    },
    {
      "cell_type": "code",
      "source": [
        "fig, ax = plt.subplots(figsize=(10, 10))\n",
        "\n",
        "corr = af_treadmill.select_dtypes(include = numpy.number).corr()# plot the heatmap\n",
        "corheat=seaborn.heatmap(corr,\n",
        "                        xticklabels=corr.columns,\n",
        "                        yticklabels=corr.columns,\n",
        "                        annot=True,\n",
        "                        cmap=seaborn.diverging_palette(220, 20, as_cmap=True))\n",
        "\n",
        "corheat.set_title('Correlation among Numeric Features\\n', size = 18)"
      ],
      "metadata": {
        "id": "EcQGi7iWrHcx"
      },
      "execution_count": null,
      "outputs": []
    },
    {
      "cell_type": "markdown",
      "source": [
        "## **Tukey's IQR Method**"
      ],
      "metadata": {
        "id": "A2BS9WkmXS66"
      }
    },
    {
      "cell_type": "code",
      "source": [
        "feature_list = ['Age', 'Education', 'Usage','Fitness', 'Income', 'Miles']"
      ],
      "metadata": {
        "id": "m386oS-wsV8H"
      },
      "execution_count": null,
      "outputs": []
    },
    {
      "cell_type": "code",
      "source": [
        "from collections import Counter"
      ],
      "metadata": {
        "id": "f73814uSX7V9"
      },
      "execution_count": null,
      "outputs": []
    },
    {
      "cell_type": "code",
      "source": [
        "def IQR_method (df,n,features):\n",
        "    \"\"\"\n",
        "    Takes a dataframe and returns an index list corresponding to the observations\n",
        "    containing more than n outliers according to the Tukey IQR method.\n",
        "    \"\"\"\n",
        "    outlier_list = []\n",
        "\n",
        "    for column in features:\n",
        "\n",
        "        # 1st quartile (25%)\n",
        "        Q1 = numpy.percentile(df[column], 25)\n",
        "        # 3rd quartile (75%)\n",
        "        Q3 = numpy.percentile(df[column],75)\n",
        "\n",
        "        # Interquartile range (IQR)\n",
        "        IQR = Q3 - Q1\n",
        "\n",
        "        # outlier step\n",
        "        outlier_step = 1.5 * IQR\n",
        "\n",
        "        # Determining a list of indices of outliers\n",
        "        outlier_list_column = df[(df[column] < Q1 - outlier_step) | (df[column] > Q3 + outlier_step )].index\n",
        "\n",
        "        # appending the list of outliers\n",
        "        outlier_list.extend(outlier_list_column)\n",
        "\n",
        "    # selecting observations containing more than x outliers\n",
        "    outlier_list = Counter(outlier_list)\n",
        "    multiple_outliers = list( k for k, v in outlier_list.items() if v > n )\n",
        "\n",
        "    # Calculate the number of records below and above lower and above bound value respectively\n",
        "    low_outliers = df[df[column] < Q1 - outlier_step]\n",
        "    high_outliers = df[df[column] > Q3 + outlier_step]\n",
        "\n",
        "    print('Total number of outliers is:', low_outliers.shape[0]+high_outliers.shape[0])\n",
        "\n",
        "    return multiple_outliers"
      ],
      "metadata": {
        "id": "5xg3b6HZXV--"
      },
      "execution_count": null,
      "outputs": []
    },
    {
      "cell_type": "code",
      "source": [
        "af_outliers = IQR_method(af_treadmill,1,feature_list)\n",
        "af_outliers"
      ],
      "metadata": {
        "colab": {
          "base_uri": "https://localhost:8080/"
        },
        "id": "Jz6vOI_kYLBl",
        "outputId": "adb6ab88-da1f-4927-9e48-012b7cc35c11"
      },
      "execution_count": 79,
      "outputs": [
        {
          "output_type": "stream",
          "name": "stdout",
          "text": [
            "Total number of outliers is: 13\n"
          ]
        },
        {
          "output_type": "execute_result",
          "data": {
            "text/plain": [
              "[178, 179, 161, 175, 155, 162, 164, 166, 167, 170, 171, 173, 176]"
            ]
          },
          "metadata": {},
          "execution_count": 79
        }
      ]
    },
    {
      "cell_type": "code",
      "source": [
        "# dropping outliers\n",
        "af_outliers_removed = af_treadmill.drop(af_outliers, axis = 0).reset_index(drop=True)\n",
        "#The reset_index() method allows you reset the index back to the default 0, 1, 2 etc indexes."
      ],
      "metadata": {
        "id": "ApwAXarZZUTX"
      },
      "execution_count": 81,
      "outputs": []
    },
    {
      "cell_type": "code",
      "source": [
        "af_outliers_removed.shape"
      ],
      "metadata": {
        "colab": {
          "base_uri": "https://localhost:8080/"
        },
        "id": "uY-kBrrLbIAn",
        "outputId": "1501522a-e7de-4161-f3bf-81fffd948649"
      },
      "execution_count": 82,
      "outputs": [
        {
          "output_type": "execute_result",
          "data": {
            "text/plain": [
              "(167, 9)"
            ]
          },
          "metadata": {},
          "execution_count": 82
        }
      ]
    },
    {
      "cell_type": "markdown",
      "source": [
        "### **Replotting boxplots to see changes.**\n",
        "It is clear that some outliers have persisted."
      ],
      "metadata": {
        "id": "bR_MSDtDitKQ"
      }
    },
    {
      "cell_type": "code",
      "source": [
        "fig, axes = plt.subplots(nrows=2, ncols=3,figsize=(15,10))\n",
        "fig.suptitle('Distribution and Outliers\\n', size = 18)\n",
        "\n",
        "seaborn.boxplot(ax=axes[0,0], data=af_outliers_removed, x='Age', y='Product', hue='Product', palette='pastel', gap=.1)\n",
        "axes[0,0].set_title(\"Distribution and Outliers in Age(In Years)\");\n",
        "\n",
        "seaborn.boxplot(ax=axes[0, 1], data=af_outliers_removed, x='Education', y='Product', hue='Product', palette='pastel', gap=.1)\n",
        "axes[0,1].set_title(\"Distribution and Outliers in Education(In Years)\");\n",
        "\n",
        "seaborn.boxplot(ax=axes[0, 2], data=af_outliers_removed, x='Usage', y='Product',hue='Product', palette='pastel', gap=.1)\n",
        "axes[0,2].set_title(\"Distribution and Outliers in Usage(Intended)\");\n",
        "\n",
        "seaborn.boxplot(ax=axes[1, 0], data=af_outliers_removed, x='Fitness', y='Product',hue='Product', palette='pastel', gap=.1)\n",
        "axes[1,0].set_title(\"Distribution and Outliers in Fitness(Self-Reported)\");\n",
        "\n",
        "seaborn.boxplot(ax=axes[1, 1], data=af_outliers_removed, x='Income', y='Product',hue='Product', palette='pastel', gap=.1)\n",
        "axes[1,1].set_title(\"Distribution and Outliers in Income(In USD)\");\n",
        "\n",
        "seaborn.boxplot(ax=axes[1,2], data=af_outliers_removed, x='Miles', y='Product',hue='Product', palette='pastel', gap=.1)\n",
        "axes[1,2].set_title(\"Distribution and Outliers in Miles\");\n",
        "\n",
        "plt.tight_layout()"
      ],
      "metadata": {
        "colab": {
          "base_uri": "https://localhost:8080/",
          "height": 952
        },
        "id": "HxnL43otbuDE",
        "outputId": "6992f871-ba35-46aa-9e56-d0b4076e81f1"
      },
      "execution_count": 83,
      "outputs": [
        {
          "output_type": "display_data",
          "data": {
            "text/plain": [
              "<Figure size 1500x1000 with 6 Axes>"
            ],
            "image/png": "[encoded data removed]"
          },
          "metadata": {}
        }
      ]
    },
    {
      "cell_type": "markdown",
      "source": [
        "#### **9 out of 13 outliers persist even after Tukey's IQR method for outliers removal**\n",
        "\n",
        "At this point, it is beyond me if I should run the Tukey's IQR method again. It is possible that z-score or standard deviation methods may be more robust. I shall try them after finishing this project."
      ],
      "metadata": {
        "id": "DRQdECrvgC4Q"
      }
    },
    {
      "cell_type": "code",
      "source": [
        "post_tukeyIQR_outliers = IQR_method(af_outliers_removed,1,feature_list)\n",
        "post_tukeyIQR_outliers"
      ],
      "metadata": {
        "colab": {
          "base_uri": "https://localhost:8080/"
        },
        "id": "9x7-NGYxgMT2",
        "outputId": "87e05534-132a-4363-b2f8-23f4255d93b8"
      },
      "execution_count": 90,
      "outputs": [
        {
          "output_type": "stream",
          "name": "stdout",
          "text": [
            "Total number of outliers is: 9\n"
          ]
        },
        {
          "output_type": "execute_result",
          "data": {
            "text/plain": [
              "[155, 154, 160, 23, 142, 148, 152, 158, 161, 163, 164, 165, 166]"
            ]
          },
          "metadata": {},
          "execution_count": 90
        }
      ]
    },
    {
      "cell_type": "code",
      "source": [
        "outlier_indices = af_treadmill.loc[[155, 154, 160, 23, 142, 148, 152, 158, 161, 163, 164, 165, 166]]\n",
        "outlier_indices[['Age','Education','Usage','Fitness','Income','Miles']].sort_values(by=['Age'])"
      ],
      "metadata": {
        "colab": {
          "base_uri": "https://localhost:8080/",
          "height": 457
        },
        "id": "igYBOQeNfsdp",
        "outputId": "e5a66576-57d6-4c87-8216-003de491990b"
      },
      "execution_count": 100,
      "outputs": [
        {
          "output_type": "execute_result",
          "data": {
            "text/plain": [
              "     Age  Education  Usage  Fitness  Income  Miles\n",
              "142   22         18      4        5   48556    200\n",
              "23    24         16      5        5   44343    188\n",
              "148   24         16      5        5   52291    200\n",
              "155   25         18      6        5   75946    240\n",
              "154   25         18      6        4   70966    180\n",
              "152   25         18      5        5   61006    200\n",
              "158   26         16      5        4   64741    180\n",
              "160   27         18      4        3   88396    100\n",
              "161   27         21      4        4   90886    100\n",
              "163   28         18      7        5   77191    180\n",
              "164   28         18      6        5   88396    150\n",
              "165   29         18      5        5   52290    180\n",
              "166   29         14      7        5   85906    300"
            ],
            "text/html": [
              "\n",
              "  <div id=\"df-6bd12ce7-9e42-4558-880e-4aaab38b197a\" class=\"colab-df-container\">\n",
              "    <div>\n",
              "<style scoped>\n",
              "    .dataframe tbody tr th:only-of-type {\n",
              "        vertical-align: middle;\n",
              "    }\n",
              "\n",
              "    .dataframe tbody tr th {\n",
              "        vertical-align: top;\n",
              "    }\n",
              "\n",
              "    .dataframe thead th {\n",
              "        text-align: right;\n",
              "    }\n",
              "</style>\n",
              "<table border=\"1\" class=\"dataframe\">\n",
              "  <thead>\n",
              "    <tr style=\"text-align: right;\">\n",
              "      <th></th>\n",
              "      <th>Age</th>\n",
              "      <th>Education</th>\n",
              "      <th>Usage</th>\n",
              "      <th>Fitness</th>\n",
              "      <th>Income</th>\n",
              "      <th>Miles</th>\n",
              "    </tr>\n",
              "  </thead>\n",
              "  <tbody>\n",
              "    <tr>\n",
              "      <th>142</th>\n",
              "      <td>22</td>\n",
              "      <td>18</td>\n",
              "      <td>4</td>\n",
              "      <td>5</td>\n",
              "      <td>48556</td>\n",
              "      <td>200</td>\n",
              "    </tr>\n",
              "    <tr>\n",
              "      <th>23</th>\n",
              "      <td>24</td>\n",
              "      <td>16</td>\n",
              "      <td>5</td>\n",
              "      <td>5</td>\n",
              "      <td>44343</td>\n",
              "      <td>188</td>\n",
              "    </tr>\n",
              "    <tr>\n",
              "      <th>148</th>\n",
              "      <td>24</td>\n",
              "      <td>16</td>\n",
              "      <td>5</td>\n",
              "      <td>5</td>\n",
              "      <td>52291</td>\n",
              "      <td>200</td>\n",
              "    </tr>\n",
              "    <tr>\n",
              "      <th>155</th>\n",
              "      <td>25</td>\n",
              "      <td>18</td>\n",
              "      <td>6</td>\n",
              "      <td>5</td>\n",
              "      <td>75946</td>\n",
              "      <td>240</td>\n",
              "    </tr>\n",
              "    <tr>\n",
              "      <th>154</th>\n",
              "      <td>25</td>\n",
              "      <td>18</td>\n",
              "      <td>6</td>\n",
              "      <td>4</td>\n",
              "      <td>70966</td>\n",
              "      <td>180</td>\n",
              "    </tr>\n",
              "    <tr>\n",
              "      <th>152</th>\n",
              "      <td>25</td>\n",
              "      <td>18</td>\n",
              "      <td>5</td>\n",
              "      <td>5</td>\n",
              "      <td>61006</td>\n",
              "      <td>200</td>\n",
              "    </tr>\n",
              "    <tr>\n",
              "      <th>158</th>\n",
              "      <td>26</td>\n",
              "      <td>16</td>\n",
              "      <td>5</td>\n",
              "      <td>4</td>\n",
              "      <td>64741</td>\n",
              "      <td>180</td>\n",
              "    </tr>\n",
              "    <tr>\n",
              "      <th>160</th>\n",
              "      <td>27</td>\n",
              "      <td>18</td>\n",
              "      <td>4</td>\n",
              "      <td>3</td>\n",
              "      <td>88396</td>\n",
              "      <td>100</td>\n",
              "    </tr>\n",
              "    <tr>\n",
              "      <th>161</th>\n",
              "      <td>27</td>\n",
              "      <td>21</td>\n",
              "      <td>4</td>\n",
              "      <td>4</td>\n",
              "      <td>90886</td>\n",
              "      <td>100</td>\n",
              "    </tr>\n",
              "    <tr>\n",
              "      <th>163</th>\n",
              "      <td>28</td>\n",
              "      <td>18</td>\n",
              "      <td>7</td>\n",
              "      <td>5</td>\n",
              "      <td>77191</td>\n",
              "      <td>180</td>\n",
              "    </tr>\n",
              "    <tr>\n",
              "      <th>164</th>\n",
              "      <td>28</td>\n",
              "      <td>18</td>\n",
              "      <td>6</td>\n",
              "      <td>5</td>\n",
              "      <td>88396</td>\n",
              "      <td>150</td>\n",
              "    </tr>\n",
              "    <tr>\n",
              "      <th>165</th>\n",
              "      <td>29</td>\n",
              "      <td>18</td>\n",
              "      <td>5</td>\n",
              "      <td>5</td>\n",
              "      <td>52290</td>\n",
              "      <td>180</td>\n",
              "    </tr>\n",
              "    <tr>\n",
              "      <th>166</th>\n",
              "      <td>29</td>\n",
              "      <td>14</td>\n",
              "      <td>7</td>\n",
              "      <td>5</td>\n",
              "      <td>85906</td>\n",
              "      <td>300</td>\n",
              "    </tr>\n",
              "  </tbody>\n",
              "</table>\n",
              "</div>\n",
              "    <div class=\"colab-df-buttons\">\n",
              "\n",
              "  <div class=\"colab-df-container\">\n",
              "    <button class=\"colab-df-convert\" onclick=\"convertToInteractive('df-6bd12ce7-9e42-4558-880e-4aaab38b197a')\"\n",
              "            title=\"Convert this dataframe to an interactive table.\"\n",
              "            style=\"display:none;\">\n",
              "\n",
              "  <svg xmlns=\"http://www.w3.org/2000/svg\" height=\"24px\" viewBox=\"0 -960 960 960\">\n",
              "    <path d=\"M120-120v-720h720v720H120Zm60-500h600v-160H180v160Zm220 220h160v-160H400v160Zm0 220h160v-160H400v160ZM180-400h160v-160H180v160Zm440 0h160v-160H620v160ZM180-180h160v-160H180v160Zm440 0h160v-160H620v160Z\"/>\n",
              "  </svg>\n",
              "    </button>\n",
              "\n",
              "  <style>\n",
              "    .colab-df-container {\n",
              "      display:flex;\n",
              "      gap: 12px;\n",
              "    }\n",
              "\n",
              "    .colab-df-convert {\n",
              "      background-color: #E8F0FE;\n",
              "      border: none;\n",
              "      border-radius: 50%;\n",
              "      cursor: pointer;\n",
              "      display: none;\n",
              "      fill: #1967D2;\n",
              "      height: 32px;\n",
              "      padding: 0 0 0 0;\n",
              "      width: 32px;\n",
              "    }\n",
              "\n",
              "    .colab-df-convert:hover {\n",
              "      background-color: #E2EBFA;\n",
              "      box-shadow: 0px 1px 2px rgba(60, 64, 67, 0.3), 0px 1px 3px 1px rgba(60, 64, 67, 0.15);\n",
              "      fill: #174EA6;\n",
              "    }\n",
              "\n",
              "    .colab-df-buttons div {\n",
              "      margin-bottom: 4px;\n",
              "    }\n",
              "\n",
              "    [theme=dark] .colab-df-convert {\n",
              "      background-color: #3B4455;\n",
              "      fill: #D2E3FC;\n",
              "    }\n",
              "\n",
              "    [theme=dark] .colab-df-convert:hover {\n",
              "      background-color: #434B5C;\n",
              "      box-shadow: 0px 1px 3px 1px rgba(0, 0, 0, 0.15);\n",
              "      filter: drop-shadow(0px 1px 2px rgba(0, 0, 0, 0.3));\n",
              "      fill: #FFFFFF;\n",
              "    }\n",
              "  </style>\n",
              "\n",
              "    <script>\n",
              "      const buttonEl =\n",
              "        document.querySelector('#df-6bd12ce7-9e42-4558-880e-4aaab38b197a button.colab-df-convert');\n",
              "      buttonEl.style.display =\n",
              "        google.colab.kernel.accessAllowed ? 'block' : 'none';\n",
              "\n",
              "      async function convertToInteractive(key) {\n",
              "        const element = document.querySelector('#df-6bd12ce7-9e42-4558-880e-4aaab38b197a');\n",
              "        const dataTable =\n",
              "          await google.colab.kernel.invokeFunction('convertToInteractive',\n",
              "                                                    [key], {});\n",
              "        if (!dataTable) return;\n",
              "\n",
              "        const docLinkHtml = 'Like what you see? Visit the ' +\n",
              "          '<a target=\"_blank\" href=https://colab.research.google.com/notebooks/data_table.ipynb>data table notebook</a>'\n",
              "          + ' to learn more about interactive tables.';\n",
              "        element.innerHTML = '';\n",
              "        dataTable['output_type'] = 'display_data';\n",
              "        await google.colab.output.renderOutput(dataTable, element);\n",
              "        const docLink = document.createElement('div');\n",
              "        docLink.innerHTML = docLinkHtml;\n",
              "        element.appendChild(docLink);\n",
              "      }\n",
              "    </script>\n",
              "  </div>\n",
              "\n",
              "\n",
              "<div id=\"df-76c6036a-fb3f-412f-83d9-8941605dfbc0\">\n",
              "  <button class=\"colab-df-quickchart\" onclick=\"quickchart('df-76c6036a-fb3f-412f-83d9-8941605dfbc0')\"\n",
              "            title=\"Suggest charts\"\n",
              "            style=\"display:none;\">\n",
              "\n",
              "<svg xmlns=\"http://www.w3.org/2000/svg\" height=\"24px\"viewBox=\"0 0 24 24\"\n",
              "     width=\"24px\">\n",
              "    <g>\n",
              "        <path d=\"M19 3H5c-1.1 0-2 .9-2 2v14c0 1.1.9 2 2 2h14c1.1 0 2-.9 2-2V5c0-1.1-.9-2-2-2zM9 17H7v-7h2v7zm4 0h-2V7h2v10zm4 0h-2v-4h2v4z\"/>\n",
              "    </g>\n",
              "</svg>\n",
              "  </button>\n",
              "\n",
              "<style>\n",
              "  .colab-df-quickchart {\n",
              "      --bg-color: #E8F0FE;\n",
              "      --fill-color: #1967D2;\n",
              "      --hover-bg-color: #E2EBFA;\n",
              "      --hover-fill-color: #174EA6;\n",
              "      --disabled-fill-color: #AAA;\n",
              "      --disabled-bg-color: #DDD;\n",
              "  }\n",
              "\n",
              "  [theme=dark] .colab-df-quickchart {\n",
              "      --bg-color: #3B4455;\n",
              "      --fill-color: #D2E3FC;\n",
              "      --hover-bg-color: #434B5C;\n",
              "      --hover-fill-color: #FFFFFF;\n",
              "      --disabled-bg-color: #3B4455;\n",
              "      --disabled-fill-color: #666;\n",
              "  }\n",
              "\n",
              "  .colab-df-quickchart {\n",
              "    background-color: var(--bg-color);\n",
              "    border: none;\n",
              "    border-radius: 50%;\n",
              "    cursor: pointer;\n",
              "    display: none;\n",
              "    fill: var(--fill-color);\n",
              "    height: 32px;\n",
              "    padding: 0;\n",
              "    width: 32px;\n",
              "  }\n",
              "\n",
              "  .colab-df-quickchart:hover {\n",
              "    background-color: var(--hover-bg-color);\n",
              "    box-shadow: 0 1px 2px rgba(60, 64, 67, 0.3), 0 1px 3px 1px rgba(60, 64, 67, 0.15);\n",
              "    fill: var(--button-hover-fill-color);\n",
              "  }\n",
              "\n",
              "  .colab-df-quickchart-complete:disabled,\n",
              "  .colab-df-quickchart-complete:disabled:hover {\n",
              "    background-color: var(--disabled-bg-color);\n",
              "    fill: var(--disabled-fill-color);\n",
              "    box-shadow: none;\n",
              "  }\n",
              "\n",
              "  .colab-df-spinner {\n",
              "    border: 2px solid var(--fill-color);\n",
              "    border-color: transparent;\n",
              "    border-bottom-color: var(--fill-color);\n",
              "    animation:\n",
              "      spin 1s steps(1) infinite;\n",
              "  }\n",
              "\n",
              "  @keyframes spin {\n",
              "    0% {\n",
              "      border-color: transparent;\n",
              "      border-bottom-color: var(--fill-color);\n",
              "      border-left-color: var(--fill-color);\n",
              "    }\n",
              "    20% {\n",
              "      border-color: transparent;\n",
              "      border-left-color: var(--fill-color);\n",
              "      border-top-color: var(--fill-color);\n",
              "    }\n",
              "    30% {\n",
              "      border-color: transparent;\n",
              "      border-left-color: var(--fill-color);\n",
              "      border-top-color: var(--fill-color);\n",
              "      border-right-color: var(--fill-color);\n",
              "    }\n",
              "    40% {\n",
              "      border-color: transparent;\n",
              "      border-right-color: var(--fill-color);\n",
              "      border-top-color: var(--fill-color);\n",
              "    }\n",
              "    60% {\n",
              "      border-color: transparent;\n",
              "      border-right-color: var(--fill-color);\n",
              "    }\n",
              "    80% {\n",
              "      border-color: transparent;\n",
              "      border-right-color: var(--fill-color);\n",
              "      border-bottom-color: var(--fill-color);\n",
              "    }\n",
              "    90% {\n",
              "      border-color: transparent;\n",
              "      border-bottom-color: var(--fill-color);\n",
              "    }\n",
              "  }\n",
              "</style>\n",
              "\n",
              "  <script>\n",
              "    async function quickchart(key) {\n",
              "      const quickchartButtonEl =\n",
              "        document.querySelector('#' + key + ' button');\n",
              "      quickchartButtonEl.disabled = true;  // To prevent multiple clicks.\n",
              "      quickchartButtonEl.classList.add('colab-df-spinner');\n",
              "      try {\n",
              "        const charts = await google.colab.kernel.invokeFunction(\n",
              "            'suggestCharts', [key], {});\n",
              "      } catch (error) {\n",
              "        console.error('Error during call to suggestCharts:', error);\n",
              "      }\n",
              "      quickchartButtonEl.classList.remove('colab-df-spinner');\n",
              "      quickchartButtonEl.classList.add('colab-df-quickchart-complete');\n",
              "    }\n",
              "    (() => {\n",
              "      let quickchartButtonEl =\n",
              "        document.querySelector('#df-76c6036a-fb3f-412f-83d9-8941605dfbc0 button');\n",
              "      quickchartButtonEl.style.display =\n",
              "        google.colab.kernel.accessAllowed ? 'block' : 'none';\n",
              "    })();\n",
              "  </script>\n",
              "</div>\n",
              "\n",
              "    </div>\n",
              "  </div>\n"
            ],
            "application/vnd.google.colaboratory.intrinsic+json": {
              "type": "dataframe",
              "summary": "{\n  \"name\": \"outlier_indices[['Age','Education','Usage','Fitness','Income','Miles']]\",\n  \"rows\": 13,\n  \"fields\": [\n    {\n      \"column\": \"Age\",\n      \"properties\": {\n        \"dtype\": \"number\",\n        \"std\": 2,\n        \"min\": 22,\n        \"max\": 29,\n        \"num_unique_values\": 7,\n        \"samples\": [\n          22,\n          24,\n          28\n        ],\n        \"semantic_type\": \"\",\n        \"description\": \"\"\n      }\n    },\n    {\n      \"column\": \"Education\",\n      \"properties\": {\n        \"dtype\": \"number\",\n        \"std\": 1,\n        \"min\": 14,\n        \"max\": 21,\n        \"num_unique_values\": 4,\n        \"samples\": [\n          16,\n          14,\n          18\n        ],\n        \"semantic_type\": \"\",\n        \"description\": \"\"\n      }\n    },\n    {\n      \"column\": \"Usage\",\n      \"properties\": {\n        \"dtype\": \"number\",\n        \"std\": 1,\n        \"min\": 4,\n        \"max\": 7,\n        \"num_unique_values\": 4,\n        \"samples\": [\n          5,\n          7,\n          4\n        ],\n        \"semantic_type\": \"\",\n        \"description\": \"\"\n      }\n    },\n    {\n      \"column\": \"Fitness\",\n      \"properties\": {\n        \"dtype\": \"number\",\n        \"std\": 0,\n        \"min\": 3,\n        \"max\": 5,\n        \"num_unique_values\": 3,\n        \"samples\": [\n          5,\n          4,\n          3\n        ],\n        \"semantic_type\": \"\",\n        \"description\": \"\"\n      }\n    },\n    {\n      \"column\": \"Income\",\n      \"properties\": {\n        \"dtype\": \"number\",\n        \"std\": 16587,\n        \"min\": 44343,\n        \"max\": 90886,\n        \"num_unique_values\": 12,\n        \"samples\": [\n          52290,\n          77191,\n          48556\n        ],\n        \"semantic_type\": \"\",\n        \"description\": \"\"\n      }\n    },\n    {\n      \"column\": \"Miles\",\n      \"properties\": {\n        \"dtype\": \"number\",\n        \"std\": 52,\n        \"min\": 100,\n        \"max\": 300,\n        \"num_unique_values\": 7,\n        \"samples\": [\n          200,\n          188,\n          150\n        ],\n        \"semantic_type\": \"\",\n        \"description\": \"\"\n      }\n    }\n  ]\n}"
            }
          },
          "metadata": {},
          "execution_count": 100
        }
      ]
    },
    {
      "cell_type": "markdown",
      "source": [
        "###7. Conditional Probabilities:\n",
        "- What percent of customers have purchased KP281, KP481, or KP781?\n",
        "\n",
        "\n",
        "\n",
        "\n",
        "Create frequency tables and calculate the percentage as follows\n",
        "\n",
        "**Product – Gender**\n",
        "1. Percentage of a Male customer purchasing a treadmill\n",
        "2. Percentage of a Female customer purchasing KP781 treadmill\n",
        "3. Probability of a customer being a Female given that Product is\n",
        "KP281\n",
        "**Product – Age**\n",
        "1. Percentage of customers with Age between 20s and 30s among all\n",
        "customers\n",
        "**Product – Income**\n",
        "1. Percentage of a low-income customer purchasing a treadmill\n",
        "2. Percentage of a high-income customer purchasing KP781\n",
        "treadmill\n",
        "3. Percentage of customer with high-income salary buying treadmill\n",
        "given that Product is KP781\n",
        "**Product – Fitness**\n",
        "1. Percentage of customers that have fitness level 5\n",
        "2. Percentage of a customer with Fitness Level 5 purchasing KP781\n",
        "treadmill\n",
        "3. Percentage of customer with fitness level 5 buying KP781\n",
        "treadmill\n",
        "**Product –  Marital Status**\n",
        "1. Percentage of a customers who are partnered using treadmills"
      ],
      "metadata": {
        "id": "BxDD2DGFi3XE"
      }
    },
    {
      "cell_type": "code",
      "source": [],
      "metadata": {
        "id": "2UL-j504j0Y1"
      },
      "execution_count": null,
      "outputs": []
    }
  ]
}